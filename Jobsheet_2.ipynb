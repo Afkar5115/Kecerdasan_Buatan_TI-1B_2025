{
  "nbformat": 4,
  "nbformat_minor": 0,
  "metadata": {
    "colab": {
      "provenance": [],
      "toc_visible": true,
      "authorship_tag": "ABX9TyOqDnBdH/uHciQPu3PgoDL2",
      "include_colab_link": true
    },
    "kernelspec": {
      "name": "python3",
      "display_name": "Python 3"
    },
    "language_info": {
      "name": "python"
    }
  },
  "cells": [
    {
      "cell_type": "markdown",
      "metadata": {
        "id": "view-in-github",
        "colab_type": "text"
      },
      "source": [
        "<a href=\"https://colab.research.google.com/github/Afkar5115/Kecerdasan_Buatan_TI-1B_2025/blob/main/Jobsheet_2.ipynb\" target=\"_parent\"><img src=\"https://colab.research.google.com/assets/colab-badge.svg\" alt=\"Open In Colab\"/></a>"
      ]
    },
    {
      "cell_type": "markdown",
      "source": [
        "**# Jobsheet 2**\n",
        "\n",
        "\n"
      ],
      "metadata": {
        "id": "HSt9YxzqoJAw"
      }
    },
    {
      "cell_type": "markdown",
      "source": [
        "# Percobaan 2"
      ],
      "metadata": {
        "id": "eRtaxg-4oTHh"
      }
    },
    {
      "cell_type": "code",
      "source": [
        "x = min(5, 10, 25)\n",
        "y = max(6, 12, 18)\n",
        "print(x)\n",
        "print(y)"
      ],
      "metadata": {
        "colab": {
          "base_uri": "https://localhost:8080/"
        },
        "id": "Jed2WRdook-F",
        "outputId": "20bc2197-ecac-4b1b-b111-9f9f26893bc8"
      },
      "execution_count": 7,
      "outputs": [
        {
          "output_type": "stream",
          "name": "stdout",
          "text": [
            "5\n",
            "18\n"
          ]
        }
      ]
    },
    {
      "cell_type": "code",
      "source": [
        "x = abs(-7.25)\n",
        "print(x)"
      ],
      "metadata": {
        "colab": {
          "base_uri": "https://localhost:8080/"
        },
        "id": "mq9kgJyxpSNF",
        "outputId": "a7ed58df-eeac-4f9e-d3d2-4fc3ee49a95b"
      },
      "execution_count": 8,
      "outputs": [
        {
          "output_type": "stream",
          "name": "stdout",
          "text": [
            "7.25\n"
          ]
        }
      ]
    },
    {
      "cell_type": "code",
      "source": [
        "import math\n",
        "x = math.pow(4, 3)\n",
        "print(x)"
      ],
      "metadata": {
        "colab": {
          "base_uri": "https://localhost:8080/"
        },
        "id": "4oleb5WmqHb4",
        "outputId": "7c01131b-8c9c-41c1-9fc7-e039776f42b2"
      },
      "execution_count": 9,
      "outputs": [
        {
          "output_type": "stream",
          "name": "stdout",
          "text": [
            "64.0\n"
          ]
        }
      ]
    },
    {
      "cell_type": "code",
      "source": [
        "import math\n",
        "x = math.sqrt(64)\n",
        "print(x)"
      ],
      "metadata": {
        "colab": {
          "base_uri": "https://localhost:8080/"
        },
        "id": "hzEWactGppD_",
        "outputId": "1934f37b-0448-4264-d279-6db5e062534c"
      },
      "execution_count": 10,
      "outputs": [
        {
          "output_type": "stream",
          "name": "stdout",
          "text": [
            "8.0\n"
          ]
        }
      ]
    },
    {
      "cell_type": "code",
      "source": [
        "import math\n",
        "x = math.ceil(1.4)\n",
        "y = math.floor(1.4)\n",
        "print(x)\n",
        "print(y)\n"
      ],
      "metadata": {
        "colab": {
          "base_uri": "https://localhost:8080/"
        },
        "id": "zsTMsiqZqVRB",
        "outputId": "057857cb-d6be-417d-9619-b4c0378e519a"
      },
      "execution_count": 11,
      "outputs": [
        {
          "output_type": "stream",
          "name": "stdout",
          "text": [
            "2\n",
            "1\n"
          ]
        }
      ]
    },
    {
      "cell_type": "code",
      "source": [
        "import math\n",
        "x = math.pi\n",
        "print(x)\n"
      ],
      "metadata": {
        "colab": {
          "base_uri": "https://localhost:8080/"
        },
        "id": "EQ_7LZn6qhSb",
        "outputId": "36f6b6ec-bb10-4c96-8991-42a3bdb39120"
      },
      "execution_count": 12,
      "outputs": [
        {
          "output_type": "stream",
          "name": "stdout",
          "text": [
            "3.141592653589793\n"
          ]
        }
      ]
    },
    {
      "cell_type": "markdown",
      "source": [
        "# Percobaan 3"
      ],
      "metadata": {
        "id": "9mLF-sN6ohoK"
      }
    },
    {
      "cell_type": "code",
      "source": [
        "math.sin(1)"
      ],
      "metadata": {
        "colab": {
          "base_uri": "https://localhost:8080/"
        },
        "id": "FScNT5ZAqu0j",
        "outputId": "395404c4-be52-43db-ffda-1469a2abe795"
      },
      "execution_count": 16,
      "outputs": [
        {
          "output_type": "execute_result",
          "data": {
            "text/plain": [
              "0.8414709848078965"
            ]
          },
          "metadata": {},
          "execution_count": 16
        }
      ]
    },
    {
      "cell_type": "code",
      "source": [
        "math.cos(1)"
      ],
      "metadata": {
        "colab": {
          "base_uri": "https://localhost:8080/"
        },
        "id": "ccz4GQbIrPpw",
        "outputId": "c0c51fcf-007a-4035-e8e8-3e1007f95f4a"
      },
      "execution_count": 17,
      "outputs": [
        {
          "output_type": "execute_result",
          "data": {
            "text/plain": [
              "0.5403023058681398"
            ]
          },
          "metadata": {},
          "execution_count": 17
        }
      ]
    },
    {
      "cell_type": "code",
      "source": [
        "math.tan(1)"
      ],
      "metadata": {
        "colab": {
          "base_uri": "https://localhost:8080/"
        },
        "id": "b_CR_scBrSQY",
        "outputId": "d5247af2-d7a6-4a0b-9e2b-f44c3eb8a738"
      },
      "execution_count": 18,
      "outputs": [
        {
          "output_type": "execute_result",
          "data": {
            "text/plain": [
              "1.5574077246549023"
            ]
          },
          "metadata": {},
          "execution_count": 18
        }
      ]
    },
    {
      "cell_type": "code",
      "source": [
        "math.log(10)\n"
      ],
      "metadata": {
        "colab": {
          "base_uri": "https://localhost:8080/"
        },
        "id": "_Pxml_0csDy0",
        "outputId": "91d29612-90ce-41ef-e2c7-09bfdefa058b"
      },
      "execution_count": 19,
      "outputs": [
        {
          "output_type": "execute_result",
          "data": {
            "text/plain": [
              "2.302585092994046"
            ]
          },
          "metadata": {},
          "execution_count": 19
        }
      ]
    },
    {
      "cell_type": "code",
      "source": [
        "math.log10(10)\n"
      ],
      "metadata": {
        "colab": {
          "base_uri": "https://localhost:8080/"
        },
        "id": "-BtMOHfxsGp9",
        "outputId": "11814e99-34ea-4460-de9a-fe8a19d923f0"
      },
      "execution_count": 21,
      "outputs": [
        {
          "output_type": "execute_result",
          "data": {
            "text/plain": [
              "1.0"
            ]
          },
          "metadata": {},
          "execution_count": 21
        }
      ]
    },
    {
      "cell_type": "code",
      "source": [
        "math.degrees(30)\n"
      ],
      "metadata": {
        "colab": {
          "base_uri": "https://localhost:8080/"
        },
        "id": "0S5sqwGmsJAW",
        "outputId": "d0db0b8d-b731-403f-e0a9-3d6bdedf0fb7"
      },
      "execution_count": 22,
      "outputs": [
        {
          "output_type": "execute_result",
          "data": {
            "text/plain": [
              "1718.8733853924696"
            ]
          },
          "metadata": {},
          "execution_count": 22
        }
      ]
    },
    {
      "cell_type": "code",
      "source": [
        "import math\n",
        "\n",
        "p = (1, 2)\n",
        "q = (4, 6)\n",
        "\n",
        "jarak = math.dist(p, q)\n",
        "print(jarak)"
      ],
      "metadata": {
        "colab": {
          "base_uri": "https://localhost:8080/"
        },
        "id": "eBTRFH9UsLsE",
        "outputId": "dde92544-2531-48d6-b6a5-660101d2731f"
      },
      "execution_count": 36,
      "outputs": [
        {
          "output_type": "stream",
          "name": "stdout",
          "text": [
            "5.0\n"
          ]
        }
      ]
    },
    {
      "cell_type": "code",
      "source": [
        "math.factorial(5)\n"
      ],
      "metadata": {
        "colab": {
          "base_uri": "https://localhost:8080/"
        },
        "id": "M3jRLgnUsNrz",
        "outputId": "c263c644-5cf6-43c4-8be6-856a48166738"
      },
      "execution_count": 27,
      "outputs": [
        {
          "output_type": "execute_result",
          "data": {
            "text/plain": [
              "120"
            ]
          },
          "metadata": {},
          "execution_count": 27
        }
      ]
    },
    {
      "cell_type": "code",
      "source": [
        "print(math.fmod(10,4))\n"
      ],
      "metadata": {
        "colab": {
          "base_uri": "https://localhost:8080/"
        },
        "id": "zp2aGbkjsQOs",
        "outputId": "347ecac6-bcb2-419e-e5a5-2c5948ce2b7c"
      },
      "execution_count": 35,
      "outputs": [
        {
          "output_type": "stream",
          "name": "stdout",
          "text": [
            "2.0\n"
          ]
        }
      ]
    },
    {
      "cell_type": "code",
      "source": [
        "print(math.isnan(float('nan')))\n",
        "print(math.isnan(10))\n",
        "print(math.isnan(3.14))"
      ],
      "metadata": {
        "colab": {
          "base_uri": "https://localhost:8080/"
        },
        "id": "E6zKTMWSsSIt",
        "outputId": "fa43c932-4e05-4fda-8c10-761682eec2f0"
      },
      "execution_count": 37,
      "outputs": [
        {
          "output_type": "stream",
          "name": "stdout",
          "text": [
            "True\n",
            "False\n",
            "False\n"
          ]
        }
      ]
    },
    {
      "cell_type": "code",
      "source": [
        "math.gamma(6)\n"
      ],
      "metadata": {
        "colab": {
          "base_uri": "https://localhost:8080/"
        },
        "id": "UhUlbbCTsUWi",
        "outputId": "fcc28832-413f-4cc9-8064-45584a2ab9de"
      },
      "execution_count": 31,
      "outputs": [
        {
          "output_type": "execute_result",
          "data": {
            "text/plain": [
              "120.0"
            ]
          },
          "metadata": {},
          "execution_count": 31
        }
      ]
    },
    {
      "cell_type": "code",
      "source": [
        "math.perm(7)"
      ],
      "metadata": {
        "colab": {
          "base_uri": "https://localhost:8080/"
        },
        "id": "PiIXPFYzsWYX",
        "outputId": "cdbeda13-c14a-4ba0-a99e-2b70dd15f755"
      },
      "execution_count": 32,
      "outputs": [
        {
          "output_type": "execute_result",
          "data": {
            "text/plain": [
              "5040"
            ]
          },
          "metadata": {},
          "execution_count": 32
        }
      ]
    },
    {
      "cell_type": "markdown",
      "source": [
        "# Percobaan 4"
      ],
      "metadata": {
        "id": "f6hjLu0RuwNQ"
      }
    },
    {
      "cell_type": "code",
      "source": [
        "import numpy as np\n",
        "A = np.array([[80, 30, 25],[50, 20, 10]])\n",
        "B = np.array([[30, 60, 15],[10, 30, 30]])\n",
        "\n",
        "hasil = A + B\n",
        "print(hasil)\n"
      ],
      "metadata": {
        "colab": {
          "base_uri": "https://localhost:8080/"
        },
        "id": "cCIBDSdJu2_m",
        "outputId": "9c380c57-eeb5-4143-b827-c3d0de4cb79d"
      },
      "execution_count": 42,
      "outputs": [
        {
          "output_type": "stream",
          "name": "stdout",
          "text": [
            "[[110  90  40]\n",
            " [ 60  50  40]]\n"
          ]
        }
      ]
    },
    {
      "cell_type": "code",
      "source": [
        "import numpy as np\n",
        "A = np.array([10, 20, 15])\n",
        "B = np.array([16, 67, 35])\n",
        "\n",
        "hasil = np.dot(A, B)\n",
        "print(hasil)\n"
      ],
      "metadata": {
        "colab": {
          "base_uri": "https://localhost:8080/"
        },
        "id": "O6CQRBQrvbus",
        "outputId": "11606fe2-44d8-4a3a-8606-fb2a91fe29e5"
      },
      "execution_count": 45,
      "outputs": [
        {
          "output_type": "stream",
          "name": "stdout",
          "text": [
            "2025\n"
          ]
        }
      ]
    },
    {
      "cell_type": "code",
      "source": [
        "import numpy as np\n",
        "A = np.array([10, 20, 15])\n",
        "B = np.array([16, 67, 35])\n",
        "\n",
        "Hasil = np.cross(A, B)\n",
        "print(Hasil)\n"
      ],
      "metadata": {
        "colab": {
          "base_uri": "https://localhost:8080/"
        },
        "id": "JSXnQ8WLvwQD",
        "outputId": "f148a4b8-5140-4a9a-a6b3-020f54d04484"
      },
      "execution_count": 52,
      "outputs": [
        {
          "output_type": "stream",
          "name": "stdout",
          "text": [
            "[-305 -110  350]\n"
          ]
        }
      ]
    },
    {
      "cell_type": "markdown",
      "source": [
        "# Tugas Praktikum 1"
      ],
      "metadata": {
        "id": "mUiHa1V4wSlJ"
      }
    },
    {
      "cell_type": "code",
      "source": [
        "import numpy as np\n",
        "\n",
        "\n",
        "A = np.array([[3, 1],\n",
        "              [2, 0]])\n",
        "\n",
        "B = np.array([[2, 1],\n",
        "              [1, -1]])\n",
        "\n",
        "C = np.array([[-1, 1, 2],\n",
        "              [2, 0, -1]])\n",
        "\n",
        "\n",
        "hasil = np.dot(A, B)\n",
        "HASIL = np.dot(B, C)\n",
        "\n",
        "\n",
        "print(\"Hasil A x B:\\n\", hasil)\n",
        "print(\"Hasil B x C:\\n\", HASIL)\n"
      ],
      "metadata": {
        "colab": {
          "base_uri": "https://localhost:8080/"
        },
        "id": "6ulaGC8nwZ1w",
        "outputId": "f26fa916-a1f6-4357-ed35-1fe8bc84aaac"
      },
      "execution_count": 53,
      "outputs": [
        {
          "output_type": "stream",
          "name": "stdout",
          "text": [
            "Hasil A x B:\n",
            " [[7 2]\n",
            " [4 2]]\n",
            "Hasil B x C:\n",
            " [[ 0  2  3]\n",
            " [-3  1  3]]\n"
          ]
        }
      ]
    },
    {
      "cell_type": "markdown",
      "source": [
        "# Tugas Praktikum 2"
      ],
      "metadata": {
        "id": "N7ZW_g22yOfj"
      }
    },
    {
      "cell_type": "code",
      "source": [
        "import math\n",
        "\n",
        "\n",
        "faktorial_6 = math.factorial(6)\n",
        "faktorial_8 = math.factorial(8)\n",
        "faktorial_5 = math.factorial(5)\n",
        "\n",
        "\n",
        "hasil = faktorial_8 / faktorial_5\n",
        "\n",
        "print(\"Hasil\")\n",
        "print(\"6! =\", faktorial_6)\n",
        "print(\"8! / 5! =\", hasil)\n"
      ],
      "metadata": {
        "colab": {
          "base_uri": "https://localhost:8080/"
        },
        "id": "1yl4cH7zyULT",
        "outputId": "ae7686f4-5cb5-412c-c0b4-77ea807f4138"
      },
      "execution_count": 55,
      "outputs": [
        {
          "output_type": "stream",
          "name": "stdout",
          "text": [
            "Hasil\n",
            "6! = 720\n",
            "8! / 5! = 336.0\n"
          ]
        }
      ]
    },
    {
      "cell_type": "markdown",
      "source": [
        "# Tugas Praktikum 3"
      ],
      "metadata": {
        "id": "qNUerEeiy8t_"
      }
    },
    {
      "cell_type": "code",
      "source": [
        "import numpy as np\n",
        "\n",
        "# Definisi vektor A dan B\n",
        "A = np.array([5, 3, 7])\n",
        "B = np.array([12, -3, 1])\n",
        "\n",
        "magnitude_A = np.linalg.norm(A)\n",
        "magnitude_B = np.linalg.norm(B)\n",
        "\n",
        "dot_product = np.dot(A, B)\n",
        "\n",
        "cross_product = np.cross(A, B)\n",
        "\n",
        "\n",
        "print(\"Panjang vektor A =\", magnitude_A)\n",
        "print(\"Panjang vektor B =\", magnitude_B)\n",
        "print(\"Perkalian titik A . B =\", dot_product)\n",
        "print(\"Perkalian silang A x B =\", cross_product)\n"
      ],
      "metadata": {
        "colab": {
          "base_uri": "https://localhost:8080/"
        },
        "id": "GMGs0ZZUzCDD",
        "outputId": "6f8187aa-8b74-4744-dfec-912d38ad8826"
      },
      "execution_count": 58,
      "outputs": [
        {
          "output_type": "stream",
          "name": "stdout",
          "text": [
            "Panjang vektor A = 9.1104335791443\n",
            "Panjang vektor B = 12.409673645990857\n",
            "Perkalian titik A . B = 58\n",
            "Perkalian silang A x B = [ 24  79 -51]\n"
          ]
        }
      ]
    }
  ]
}