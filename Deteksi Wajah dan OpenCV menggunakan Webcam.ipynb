{
  "nbformat": 4,
  "nbformat_minor": 0,
  "metadata": {
    "colab": {
      "provenance": [],
      "toc_visible": true,
      "authorship_tag": "ABX9TyN0mQYgjpL9xLk4uVHVcHGT",
      "include_colab_link": true
    },
    "kernelspec": {
      "name": "python3",
      "display_name": "Python 3"
    },
    "language_info": {
      "name": "python"
    }
  },
  "cells": [
    {
      "cell_type": "markdown",
      "metadata": {
        "id": "view-in-github",
        "colab_type": "text"
      },
      "source": [
        "<a href=\"https://colab.research.google.com/github/Afkar5115/Kecerdasan_Buatan_TI-1B_2025/blob/main/Deteksi%20Wajah%20dan%20OpenCV%20menggunakan%20Webcam.ipynb\" target=\"_parent\"><img src=\"https://colab.research.google.com/assets/colab-badge.svg\" alt=\"Open In Colab\"/></a>"
      ]
    },
    {
      "cell_type": "markdown",
      "source": [
        "# Praktikum Face Detection menggunakan Webcam"
      ],
      "metadata": {
        "id": "qYqgnMwjMUxL"
      }
    },
    {
      "cell_type": "code",
      "execution_count": null,
      "metadata": {
        "id": "V3-xnF0BMSd5"
      },
      "outputs": [],
      "source": [
        "import cv2\n",
        "import numpy as np\n",
        "from PIL import Image\n",
        "\n",
        "faceDetect = cv2.CascadeClassifier('haarcascade_frontalface_default.xml')\n",
        "\n",
        "camera = cv2.VideoCapture(0)\n",
        "\n",
        "while True:\n",
        "    ret, img = camera.read()\n",
        "    if not ret:\n",
        "        print(\"Failed to capture frame\")\n",
        "        break\n",
        "\n",
        "    gray = cv2.cvtColor(img, cv2.COLOR_BGR2GRAY)\n",
        "    faces = faceDetect.detectMultiScale(gray, 1.1, 5)\n",
        "    for (x, y, w, h) in faces:\n",
        "        cv2.rectangle(img, (x, y), (x + w, y + h), (0, 255, 0), 2)\n",
        "\n",
        "    cv2.imshow(\"Face\", img)\n",
        "    if cv2.waitKey(1) == ord('q'):\n",
        "        break\n",
        "\n",
        "camera.release()\n",
        "cv2.destroyAllWindows()\n"
      ]
    },
    {
      "cell_type": "markdown",
      "source": [
        "# OpenCV secara Real Time menggunakan Webcam"
      ],
      "metadata": {
        "id": "VvBmbYKNMuQc"
      }
    },
    {
      "cell_type": "code",
      "source": [
        "import cv2\n",
        "\n",
        "# Load the Haar cascade classifiers for face and smile detection\n",
        "face_cascade = cv2.CascadeClassifier(cv2.data.haarcascades + 'haarcascade_frontalface_default.xml')\n",
        "smile_cascade = cv2.CascadeClassifier(cv2.data.haarcascades + 'haarcascade_smile.xml')\n",
        "\n",
        "# Start capturing video from the webcam\n",
        "cap = cv2.VideoCapture(0)\n",
        "\n",
        "while True:\n",
        "    ret, frame = cap.read()\n",
        "    gray = cv2.cvtColor(frame, cv2.COLOR_BGR2GRAY)\n",
        "\n",
        "    # Detect faces in the image\n",
        "    faces = face_cascade.detectMultiScale(gray, 1.3, 5)\n",
        "\n",
        "    for (x, y, w, h) in faces:\n",
        "        # Draw a rectangle around the face\n",
        "        cv2.rectangle(frame, (x, y), (x+w, y+h), (255, 0, 0), 2)\n",
        "\n",
        "        # Focus on the face region for smile detection\n",
        "        roi_gray = gray[y:y+h, x:x+w]\n",
        "        roi_color = frame[y:y+h, x:x+w]\n",
        "\n",
        "        # Detect smiles within the face region\n",
        "        smiles = smile_cascade.detectMultiScale(roi_gray, 1.8, 20)\n",
        "\n",
        "        for (sx, sy, sw, sh) in smiles:\n",
        "            # Draw a rectangle around the smile\n",
        "            cv2.rectangle(roi_color, (sx, sy), (sx+sw, sy+sh), (0, 255, 0), 2)\n",
        "    # Show the output frame\n",
        "    cv2.imshow('Face and Smile Detection', frame)\n",
        "    # Break the loop when 'q' is pressed\n",
        "    if cv2.waitKey(1) & 0xFF == ord('q'):\n",
        "        break\n",
        "\n",
        "# Release the webcam and close all windows\n",
        "cap.release()\n",
        "cv2.destroyAllWindows()\n"
      ],
      "metadata": {
        "id": "kELAMmhhNI9c"
      },
      "execution_count": null,
      "outputs": []
    }
  ]
}